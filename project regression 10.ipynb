{
 "metadata": {
  "language_info": {
   "codemirror_mode": {
    "name": "ipython",
    "version": 3
   },
   "file_extension": ".py",
   "mimetype": "text/x-python",
   "name": "python",
   "nbconvert_exporter": "python",
   "pygments_lexer": "ipython3",
   "version": "3.8.6"
  },
  "orig_nbformat": 4,
  "kernelspec": {
   "name": "python3",
   "display_name": "Python 3.8.6 64-bit"
  },
  "interpreter": {
   "hash": "0842e88368afed9d6d3545cb71ab478a5393a8a4f4360e0d970ea0fb89474111"
  }
 },
 "nbformat": 4,
 "nbformat_minor": 2,
 "cells": [
  {
   "cell_type": "code",
   "execution_count": 1,
   "metadata": {},
   "outputs": [],
   "source": [
    "# Author - Dvir Sadon\n",
    "%matplotlib inline\n",
    "import pandas as pd\n",
    "import numpy as np\n",
    "from sklearn.model_selection import train_test_split\n",
    "from sklearn import metrics\n",
    "import matplotlib.pyplot as plt\n",
    "import seaborn as sns\n",
    "from sklearn.preprocessing import StandardScaler\n",
    "from imblearn.over_sampling import SMOTE\n",
    "from sklearn.linear_model import LogisticRegression"
   ]
  },
  {
   "cell_type": "code",
   "execution_count": 2,
   "metadata": {},
   "outputs": [
    {
     "output_type": "stream",
     "name": "stdout",
     "text": [
      "   fixed acidity  volatile acidity  citric acid  residual sugar  chlorides  \\\n0            7.4              0.70         0.00             1.9      0.076   \n1            7.8              0.88         0.00             2.6      0.098   \n2            7.8              0.76         0.04             2.3      0.092   \n3           11.2              0.28         0.56             1.9      0.075   \n4            7.4              0.70         0.00             1.9      0.076   \n\n   free sulfur dioxide  total sulfur dioxide  density    pH  sulphates  \\\n0                 11.0                  34.0   0.9978  3.51       0.56   \n1                 25.0                  67.0   0.9968  3.20       0.68   \n2                 15.0                  54.0   0.9970  3.26       0.65   \n3                 17.0                  60.0   0.9980  3.16       0.58   \n4                 11.0                  34.0   0.9978  3.51       0.56   \n\n   alcohol  quality  \n0      9.4        5  \n1      9.8        5  \n2      9.8        5  \n3      9.8        6  \n4      9.4        5  \n"
     ]
    }
   ],
   "source": [
    "df = pd.read_csv(\"winequality-red.csv\")\n",
    "print(df.head())"
   ]
  },
  {
   "cell_type": "code",
   "execution_count": 3,
   "metadata": {},
   "outputs": [],
   "source": [
    "X = df.drop('quality', axis=1)\n",
    "y = df['quality']"
   ]
  },
  {
   "cell_type": "code",
   "execution_count": 4,
   "metadata": {},
   "outputs": [],
   "source": [
    "X = X.drop('residual sugar', axis=1)"
   ]
  },
  {
   "cell_type": "code",
   "execution_count": 5,
   "metadata": {},
   "outputs": [
    {
     "output_type": "stream",
     "name": "stdout",
     "text": [
      "      fixed acidity  volatile acidity  citric acid  chlorides  \\\n0               7.4             0.700         0.00      0.076   \n1               7.8             0.880         0.00      0.098   \n2               7.8             0.760         0.04      0.092   \n3              11.2             0.280         0.56      0.075   \n4               7.4             0.700         0.00      0.076   \n...             ...               ...          ...        ...   \n1594            6.2             0.600         0.08      0.090   \n1595            5.9             0.550         0.10      0.062   \n1596            6.3             0.510         0.13      0.076   \n1597            5.9             0.645         0.12      0.075   \n1598            6.0             0.310         0.47      0.067   \n\n      free sulfur dioxide  total sulfur dioxide  density    pH  sulphates  \\\n0                    11.0                  34.0  0.99780  3.51       0.56   \n1                    25.0                  67.0  0.99680  3.20       0.68   \n2                    15.0                  54.0  0.99700  3.26       0.65   \n3                    17.0                  60.0  0.99800  3.16       0.58   \n4                    11.0                  34.0  0.99780  3.51       0.56   \n...                   ...                   ...      ...   ...        ...   \n1594                 32.0                  44.0  0.99490  3.45       0.58   \n1595                 39.0                  51.0  0.99512  3.52       0.76   \n1596                 29.0                  40.0  0.99574  3.42       0.75   \n1597                 32.0                  44.0  0.99547  3.57       0.71   \n1598                 18.0                  42.0  0.99549  3.39       0.66   \n\n      alcohol  \n0         9.4  \n1         9.8  \n2         9.8  \n3         9.8  \n4         9.4  \n...       ...  \n1594     10.5  \n1595     11.2  \n1596     11.0  \n1597     10.2  \n1598     11.0  \n\n[1599 rows x 10 columns]\n"
     ]
    }
   ],
   "source": [
    "X_train, X_test, y_train, y_test = train_test_split(X, y, test_size=0.2)\n",
    "print(X)"
   ]
  },
  {
   "source": [
    "## Logistic Regression"
   ],
   "cell_type": "markdown",
   "metadata": {}
  },
  {
   "cell_type": "code",
   "execution_count": 6,
   "metadata": {},
   "outputs": [
    {
     "output_type": "stream",
     "name": "stdout",
     "text": [
      "Accuracy: 0.6\n\n1/(1 + exp(-(2.0766995555367567 + 0.1767964626474786*fixed acidity + 2.394775100648505*volatile acidity + -0.2173374498011205*citric acid + 0.3525952861902819*chlorides + 0.05319018036726719*free sulfur dioxide + -0.046181185388771855*total sulfur dioxide + 0.02918577918769722*density + 0.691437844289132*pH + -0.4961210991936624*sulphates + -0.7675541567113382*alcohol))\n\n1/(1 + exp(-(2.0766995555367567 + -0.2529448596350562*fixed acidity + 1.9321958218001831*volatile acidity + 0.2660287186851794*citric acid + 0.14286418795816852*chlorides + -0.020730635779108657*free sulfur dioxide + -0.00466089584195134*total sulfur dioxide + -0.0006732144080103383*density + 0.6876419117961449*pH + -0.9472140266499739*sulphates + -0.4480518991219013*alcohol))\n\n1/(1 + exp(-(2.0766995555367567 + -0.10186595272941004*fixed acidity + 0.6409637963042983*volatile acidity + 0.18879716714860023*citric acid + 0.7956024164868657*chlorides + -0.020207220603104196*free sulfur dioxide + 0.026822913791096036*total sulfur dioxide + -0.012234598722907749*density + -0.17977468476152647*pH + -1.5308169243694867*sulphates + -0.7656510735501436*alcohol))\n\n1/(1 + exp(-(2.0766995555367567 + 0.031479103665247934*fixed acidity + -1.4319216256986398*volatile acidity + -0.6614518165250921*citric acid + -0.10553811109115474*chlorides + -0.0011406931818599504*free sulfur dioxide + 0.011395328541430754*total sulfur dioxide + 0.12388408849822359*density + 0.18006770052267126*pH + 0.22913012916206035*sulphates + 0.040756309184661894*alcohol))\n\n1/(1 + exp(-(2.0766995555367567 + 0.08355504889339951*fixed acidity + -3.0013312720704564*volatile acidity + 0.02811424936671981*citric acid + -1.023136110760197*chlorides + -0.002632710900639388*free sulfur dioxide + 0.0051227697089244115*total sulfur dioxide + -0.09623488311531705*density + -0.47631823066699774*pH + 1.8514470794945281*sulphates + 0.7794968875982069*alcohol))\n\n1/(1 + exp(-(2.0766995555367567 + 0.06298019715833933*fixed acidity + -0.5346818209805501*volatile acidity + 0.395849131126533*citric acid + -0.16238766878208635*chlorides + -0.008478919902568997*free sulfur dioxide + 0.007501069189142956*total sulfur dioxide + -0.04392717143989566*density + -0.903054541177912*pH + 0.8935748415563215*sulphates + 1.1610039325997183*alcohol))\n\n"
     ]
    }
   ],
   "source": [
    "lr = LogisticRegression(max_iter=10000)\n",
    "lr.fit(X_train, y_train)\n",
    "\n",
    "pred = lr.predict(X_test)\n",
    "score = lr.score(X_test, y_test)\n",
    "print(\"Accuracy: \" + str(score))\n",
    "print()\n",
    "\n",
    "for i in lr.coef_:\n",
    "    count = 0\n",
    "    count2 = 0\n",
    "    myequasion = \"1/(1 + exp(-(\"\n",
    "    myequasion += str(lr.intercept_[count2])\n",
    "\n",
    "    for j in i:\n",
    "        myequasion += \" + \"\n",
    "        myequasion += str(j) + \"*\" + str(X_train.columns[count])\n",
    "        count += 1\n",
    "    \n",
    "    myequasion += \"))\"\n",
    "    count2 += 1 \n",
    "    print(myequasion)\n",
    "    print()"
   ]
  }
 ]
}