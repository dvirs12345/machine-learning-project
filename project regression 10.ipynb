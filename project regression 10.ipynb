{
 "metadata": {
  "language_info": {
   "codemirror_mode": {
    "name": "ipython",
    "version": 3
   },
   "file_extension": ".py",
   "mimetype": "text/x-python",
   "name": "python",
   "nbconvert_exporter": "python",
   "pygments_lexer": "ipython3",
   "version": "3.8.6"
  },
  "orig_nbformat": 4,
  "kernelspec": {
   "name": "python3",
   "display_name": "Python 3.8.6 64-bit"
  },
  "interpreter": {
   "hash": "0842e88368afed9d6d3545cb71ab478a5393a8a4f4360e0d970ea0fb89474111"
  }
 },
 "nbformat": 4,
 "nbformat_minor": 2,
 "cells": [
  {
   "cell_type": "code",
   "execution_count": 1,
   "metadata": {},
   "outputs": [],
   "source": [
    "# Author - Dvir Sadon\n",
    "%matplotlib inline\n",
    "import pandas as pd\n",
    "import numpy as np\n",
    "from sklearn.model_selection import train_test_split\n",
    "from sklearn import metrics\n",
    "import matplotlib.pyplot as plt\n",
    "import seaborn as sns\n",
    "from sklearn.preprocessing import StandardScaler\n",
    "from imblearn.over_sampling import SMOTE\n",
    "from sklearn.linear_model import LogisticRegression"
   ]
  },
  {
   "cell_type": "code",
   "execution_count": 2,
   "metadata": {},
   "outputs": [
    {
     "output_type": "stream",
     "name": "stdout",
     "text": [
      "   fixed acidity  volatile acidity  citric acid  residual sugar  chlorides  \\\n0            7.4              0.70         0.00             1.9      0.076   \n1            7.8              0.88         0.00             2.6      0.098   \n2            7.8              0.76         0.04             2.3      0.092   \n3           11.2              0.28         0.56             1.9      0.075   \n4            7.4              0.70         0.00             1.9      0.076   \n\n   free sulfur dioxide  total sulfur dioxide  density    pH  sulphates  \\\n0                 11.0                  34.0   0.9978  3.51       0.56   \n1                 25.0                  67.0   0.9968  3.20       0.68   \n2                 15.0                  54.0   0.9970  3.26       0.65   \n3                 17.0                  60.0   0.9980  3.16       0.58   \n4                 11.0                  34.0   0.9978  3.51       0.56   \n\n   alcohol  quality  \n0      9.4        5  \n1      9.8        5  \n2      9.8        5  \n3      9.8        6  \n4      9.4        5  \n"
     ]
    }
   ],
   "source": [
    "df = pd.read_csv(\"winequality-red.csv\")\n",
    "print(df.head())"
   ]
  },
  {
   "cell_type": "code",
   "execution_count": 3,
   "metadata": {},
   "outputs": [],
   "source": [
    "X = df.drop('quality', axis=1)\n",
    "y = df['quality']"
   ]
  },
  {
   "cell_type": "code",
   "execution_count": 4,
   "metadata": {},
   "outputs": [],
   "source": [
    "X = X.drop('residual sugar', axis=1)"
   ]
  },
  {
   "cell_type": "code",
   "execution_count": 5,
   "metadata": {},
   "outputs": [
    {
     "output_type": "stream",
     "name": "stdout",
     "text": [
      "      fixed acidity  volatile acidity  citric acid  chlorides  \\\n0               7.4             0.700         0.00      0.076   \n1               7.8             0.880         0.00      0.098   \n2               7.8             0.760         0.04      0.092   \n3              11.2             0.280         0.56      0.075   \n4               7.4             0.700         0.00      0.076   \n...             ...               ...          ...        ...   \n1594            6.2             0.600         0.08      0.090   \n1595            5.9             0.550         0.10      0.062   \n1596            6.3             0.510         0.13      0.076   \n1597            5.9             0.645         0.12      0.075   \n1598            6.0             0.310         0.47      0.067   \n\n      free sulfur dioxide  total sulfur dioxide  density    pH  sulphates  \\\n0                    11.0                  34.0  0.99780  3.51       0.56   \n1                    25.0                  67.0  0.99680  3.20       0.68   \n2                    15.0                  54.0  0.99700  3.26       0.65   \n3                    17.0                  60.0  0.99800  3.16       0.58   \n4                    11.0                  34.0  0.99780  3.51       0.56   \n...                   ...                   ...      ...   ...        ...   \n1594                 32.0                  44.0  0.99490  3.45       0.58   \n1595                 39.0                  51.0  0.99512  3.52       0.76   \n1596                 29.0                  40.0  0.99574  3.42       0.75   \n1597                 32.0                  44.0  0.99547  3.57       0.71   \n1598                 18.0                  42.0  0.99549  3.39       0.66   \n\n      alcohol  \n0         9.4  \n1         9.8  \n2         9.8  \n3         9.8  \n4         9.4  \n...       ...  \n1594     10.5  \n1595     11.2  \n1596     11.0  \n1597     10.2  \n1598     11.0  \n\n[1599 rows x 10 columns]\n"
     ]
    }
   ],
   "source": [
    "# sc = StandardScaler()\n",
    "# X = sc.fit_transform(X)\n",
    "\n",
    "X_train, X_test, y_train, y_test = train_test_split(X, y, test_size=0.2)\n",
    "print(X)"
   ]
  },
  {
   "source": [
    "## Logistic Regression"
   ],
   "cell_type": "markdown",
   "metadata": {}
  },
  {
   "cell_type": "code",
   "execution_count": 6,
   "metadata": {},
   "outputs": [
    {
     "output_type": "stream",
     "name": "stdout",
     "text": [
      "Accuracy: 0.634375\n\n1/(1 + exp(-(3.1464496046949466 + 0.20899476334762496*fixed acidity + 2.0055752918846212*fixed acidity + -0.12384147954742274*fixed acidity + 0.16685791577876088*fixed acidity + 0.05475631036702852*fixed acidity + -0.044398380568124*fixed acidity + 0.032977970622316014*fixed acidity + 0.5480466141140024*fixed acidity + -0.447549001326715*fixed acidity + -0.8592762461177116*fixed acidity))\n\n1/(1 + exp(-(3.1464496046949466 + -0.1666382209992954*fixed acidity + 1.8902204571724397*fixed acidity + 0.0148866870570693*fixed acidity + 0.20547007768573566*fixed acidity + -0.03704230308489156*fixed acidity + 0.009040564506482196*fixed acidity + 0.0018682468113624224*fixed acidity + 0.7744046325645165*fixed acidity + -0.6942981876826236*fixed acidity + -0.41762671254581585*fixed acidity))\n\n1/(1 + exp(-(3.1464496046949466 + -0.1662042281226978*fixed acidity + 0.6972654782163074*fixed acidity + 0.29670425281399*fixed acidity + 0.8038045954414312*fixed acidity + -0.01906997570359381*fixed acidity + 0.023147142770153513*fixed acidity + 0.07373934980023922*fixed acidity + -0.11788510862742044*fixed acidity + -1.7051751671076798*fixed acidity + -0.8394058980491208*fixed acidity))\n\n1/(1 + exp(-(3.1464496046949466 + -0.028246944733491715*fixed acidity + -1.2013792593100219*fixed acidity + -0.726827518154422*fixed acidity + -0.057955849231202373*fixed acidity + 0.0022103991072386525*fixed acidity + 0.00837482649914519*fixed acidity + -0.058075227991917416*fixed acidity + -0.1907624335849724*fixed acidity + -0.001606951258778337*fixed acidity + -0.011520595567199362*fixed acidity))\n\n1/(1 + exp(-(3.1464496046949466 + 0.10998995831957374*fixed acidity + -2.856577330382416*fixed acidity + 0.014970580413700514*fixed acidity + -0.9351707569069683*fixed acidity + -0.00546240804246581*fixed acidity + 0.0050465615871847025*fixed acidity + -0.018403271261318365*fixed acidity + -0.09586466556577207*fixed acidity + 1.8722742143371063*fixed acidity + 0.8208755168736631*fixed acidity))\n\n1/(1 + exp(-(3.1464496046949466 + 0.04210467218838473*fixed acidity + -0.5351046375761264*fixed acidity + 0.5241074774167424*fixed acidity + -0.18300598276747168*fixed acidity + 0.00460797735668288*fixed acidity + -0.0012107147947432073*fixed acidity + -0.03210706798066326*fixed acidity + -0.9179390389008956*fixed acidity + 0.9763550930383682*fixed acidity + 1.30695393540671*fixed acidity))\n\n"
     ]
    }
   ],
   "source": [
    "lr = LogisticRegression(max_iter=10000)\n",
    "lr.fit(X_train, y_train)\n",
    "\n",
    "pred = lr.predict(X_test)\n",
    "score = lr.score(X_test, y_test)\n",
    "print(\"Accuracy: \" + str(score))\n",
    "print()\n",
    "\n",
    "for i in lr.coef_:\n",
    "    count2 = 0\n",
    "    myequasion = \"1/(1 + exp(-(\"\n",
    "    myequasion += str(lr.intercept_[count2])\n",
    "\n",
    "    for j in i:\n",
    "        count = 0\n",
    "        myequasion += \" + \"\n",
    "        myequasion += str(j) + \"*\" + str(X_train.columns[count])\n",
    "        count += 1\n",
    "    \n",
    "    myequasion += \"))\"\n",
    "    count2+=1 \n",
    "    print(myequasion)\n",
    "    print()"
   ]
  }
 ]
}