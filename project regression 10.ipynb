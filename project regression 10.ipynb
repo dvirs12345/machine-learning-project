{
 "metadata": {
  "language_info": {
   "codemirror_mode": {
    "name": "ipython",
    "version": 3
   },
   "file_extension": ".py",
   "mimetype": "text/x-python",
   "name": "python",
   "nbconvert_exporter": "python",
   "pygments_lexer": "ipython3",
   "version": "3.8.6"
  },
  "orig_nbformat": 4,
  "kernelspec": {
   "name": "python3",
   "display_name": "Python 3.8.6 64-bit"
  },
  "interpreter": {
   "hash": "0842e88368afed9d6d3545cb71ab478a5393a8a4f4360e0d970ea0fb89474111"
  }
 },
 "nbformat": 4,
 "nbformat_minor": 2,
 "cells": [
  {
   "cell_type": "code",
   "execution_count": 1,
   "metadata": {},
   "outputs": [],
   "source": [
    "# Author - Dvir Sadon\n",
    "%matplotlib inline\n",
    "import pandas as pd\n",
    "import numpy as np\n",
    "from sklearn.model_selection import train_test_split\n",
    "from sklearn import metrics\n",
    "import matplotlib.pyplot as plt\n",
    "import seaborn as sns\n",
    "from sklearn.preprocessing import StandardScaler\n",
    "from imblearn.over_sampling import SMOTE\n",
    "from sklearn.linear_model import LogisticRegression"
   ]
  },
  {
   "cell_type": "code",
   "execution_count": 2,
   "metadata": {},
   "outputs": [
    {
     "output_type": "stream",
     "name": "stdout",
     "text": [
      "   fixed acidity  volatile acidity  citric acid  residual sugar  chlorides  \\\n0            7.4              0.70         0.00             1.9      0.076   \n1            7.8              0.88         0.00             2.6      0.098   \n2            7.8              0.76         0.04             2.3      0.092   \n3           11.2              0.28         0.56             1.9      0.075   \n4            7.4              0.70         0.00             1.9      0.076   \n\n   free sulfur dioxide  total sulfur dioxide  density    pH  sulphates  \\\n0                 11.0                  34.0   0.9978  3.51       0.56   \n1                 25.0                  67.0   0.9968  3.20       0.68   \n2                 15.0                  54.0   0.9970  3.26       0.65   \n3                 17.0                  60.0   0.9980  3.16       0.58   \n4                 11.0                  34.0   0.9978  3.51       0.56   \n\n   alcohol  quality  \n0      9.4        5  \n1      9.8        5  \n2      9.8        5  \n3      9.8        6  \n4      9.4        5  \n"
     ]
    }
   ],
   "source": [
    "df = pd.read_csv(\"winequality-red.csv\")\n",
    "print(df.head())"
   ]
  },
  {
   "cell_type": "code",
   "execution_count": 3,
   "metadata": {},
   "outputs": [],
   "source": [
    "X = df.drop('quality', axis=1)\n",
    "y = df['quality']"
   ]
  },
  {
   "cell_type": "code",
   "execution_count": 4,
   "metadata": {},
   "outputs": [],
   "source": [
    "X = X.drop('residual sugar', axis=1)"
   ]
  },
  {
   "cell_type": "code",
   "execution_count": 5,
   "metadata": {},
   "outputs": [
    {
     "output_type": "stream",
     "name": "stdout",
     "text": [
      "      fixed acidity  volatile acidity  citric acid  chlorides  \\\n0               7.4             0.700         0.00      0.076   \n1               7.8             0.880         0.00      0.098   \n2               7.8             0.760         0.04      0.092   \n3              11.2             0.280         0.56      0.075   \n4               7.4             0.700         0.00      0.076   \n...             ...               ...          ...        ...   \n1594            6.2             0.600         0.08      0.090   \n1595            5.9             0.550         0.10      0.062   \n1596            6.3             0.510         0.13      0.076   \n1597            5.9             0.645         0.12      0.075   \n1598            6.0             0.310         0.47      0.067   \n\n      free sulfur dioxide  total sulfur dioxide  density    pH  sulphates  \\\n0                    11.0                  34.0  0.99780  3.51       0.56   \n1                    25.0                  67.0  0.99680  3.20       0.68   \n2                    15.0                  54.0  0.99700  3.26       0.65   \n3                    17.0                  60.0  0.99800  3.16       0.58   \n4                    11.0                  34.0  0.99780  3.51       0.56   \n...                   ...                   ...      ...   ...        ...   \n1594                 32.0                  44.0  0.99490  3.45       0.58   \n1595                 39.0                  51.0  0.99512  3.52       0.76   \n1596                 29.0                  40.0  0.99574  3.42       0.75   \n1597                 32.0                  44.0  0.99547  3.57       0.71   \n1598                 18.0                  42.0  0.99549  3.39       0.66   \n\n      alcohol  \n0         9.4  \n1         9.8  \n2         9.8  \n3         9.8  \n4         9.4  \n...       ...  \n1594     10.5  \n1595     11.2  \n1596     11.0  \n1597     10.2  \n1598     11.0  \n\n[1599 rows x 10 columns]\n"
     ]
    }
   ],
   "source": [
    "# sc = StandardScaler()\n",
    "# X = sc.fit_transform(X)\n",
    "\n",
    "X_train, X_test, y_train, y_test = train_test_split(X, y, test_size=0.2)\n",
    "print(X)"
   ]
  },
  {
   "source": [
    "## Logistic Regression"
   ],
   "cell_type": "markdown",
   "metadata": {}
  },
  {
   "cell_type": "code",
   "execution_count": 6,
   "metadata": {},
   "outputs": [
    {
     "output_type": "stream",
     "name": "stdout",
     "text": [
      "Accuracy: 0.559375\n",
      "\n",
      "1/(1 + exp(-(-0.00045164069240913123 + 0.09829663185969068*fixed acidity + 0.11635120151559887*fixed acidity + -0.018775975376592483*fixed acidity + 0.013679954151747926*fixed acidity + 0.04664238085563285*fixed acidity + -0.05305048833624852*fixed acidity + 0.00010843784724030923*fixed acidity + 0.02333868000041131*fixed acidity + -0.021919494668611227*fixed acidity + -0.1884023124619497*fixed acidity))\n",
      "\n",
      "1/(1 + exp(-(-0.00045164069240913123 + -0.16035277846391863*fixed acidity + 0.22493244591256673*fixed acidity + -0.09930004216613514*fixed acidity + 0.009186949020595964*fixed acidity + -0.04531184422387322*fixed acidity + 0.007188144024458477*fixed acidity + 0.032225804622208684*fixed acidity + 0.14777531669817168*fixed acidity + -0.0322176630899241*fixed acidity + 0.051113233636720184*fixed acidity))\n",
      "\n",
      "1/(1 + exp(-(-0.00045164069240913123 + 0.1587089189307142*fixed acidity + 0.9242311821291374*fixed acidity + -0.4507828286888154*fixed acidity + 0.09747745202406767*fixed acidity + -0.02481752072766227*fixed acidity + 0.03317394929144535*fixed acidity + 0.4782114008083681*fixed acidity + 1.6890836766541584*fixed acidity + -0.34099522039730806*fixed acidity + -0.678563424422664*fixed acidity))\n",
      "\n",
      "1/(1 + exp(-(-0.00045164069240913123 + 0.04853750792732948*fixed acidity + -0.3594794136752824*fixed acidity + -0.027010938331414262*fixed acidity + -0.030894254097720817*fixed acidity + 0.0003527732294156794*fixed acidity + 0.013900681475349005*fixed acidity + -0.08129309255502584*fixed acidity + -0.21914326846845883*fixed acidity + 0.16390073094675156*fixed acidity + 0.20413805596068063*fixed acidity))\n",
      "\n",
      "1/(1 + exp(-(-0.00045164069240913123 + 0.05296492401884657*fixed acidity + -0.8237265477750131*fixed acidity + 0.5323546959222865*fixed acidity + -0.0774696827489758*fixed acidity + 0.03190618522440865*fixed acidity + -0.0039419486064486906*fixed acidity + -0.37222669362830163*fixed acidity + -1.416678665275938*fixed acidity + 0.20495877713277655*fixed acidity + 0.5183240281072308*fixed acidity))\n",
      "\n",
      "1/(1 + exp(-(-0.00045164069240913123 + -0.19815520427266997*fixed acidity + -0.0823088681069923*fixed acidity + 0.06351508864065739*fixed acidity + -0.011980418349719413*fixed acidity + -0.008771974357922176*fixed acidity + 0.002729662151434631*fixed acidity + -0.05702585709449149*fixed acidity + -0.2243757396083887*fixed acidity + 0.026272870076306406*fixed acidity + 0.09339041917998751*fixed acidity))\n",
      "\n",
      "C:\\Users\\dvirs\\AppData\\Local\\Programs\\Python\\Python38\\lib\\site-packages\\sklearn\\linear_model\\_logistic.py:763: ConvergenceWarning: lbfgs failed to converge (status=1):\n",
      "STOP: TOTAL NO. of ITERATIONS REACHED LIMIT.\n",
      "\n",
      "Increase the number of iterations (max_iter) or scale the data as shown in:\n",
      "    https://scikit-learn.org/stable/modules/preprocessing.html\n",
      "Please also refer to the documentation for alternative solver options:\n",
      "    https://scikit-learn.org/stable/modules/linear_model.html#logistic-regression\n",
      "  n_iter_i = _check_optimize_result(\n"
     ]
    }
   ],
   "source": [
    "lr = LogisticRegression()\n",
    "lr.fit(X_train, y_train)\n",
    "\n",
    "pred = lr.predict(X_test)\n",
    "score = lr.score(X_test, y_test)\n",
    "print(\"Accuracy: \" + str(score))\n",
    "print()\n",
    "\n",
    "for i in lr.coef_:\n",
    "    count2 = 0\n",
    "    myequasion = \"1/(1 + exp(-(\"\n",
    "    myequasion += str(lr.intercept_[count2])\n",
    "\n",
    "    for j in i:\n",
    "        count = 0\n",
    "        myequasion += \" + \"\n",
    "        myequasion += str(j) + \"*\" + str(X_train.columns[count])\n",
    "        count += 1\n",
    "    \n",
    "    myequasion += \"))\"\n",
    "    count2+=1 \n",
    "    print(myequasion)\n",
    "    print()"
   ]
  }
 ]
}